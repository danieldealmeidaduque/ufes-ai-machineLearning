{
  "cells": [
    {
      "cell_type": "markdown",
      "metadata": {
        "id": "wXKinDCKnirN"
      },
      "source": [
        "# IA - Trabalho 1 - Aprendizado de Máquina"
      ]
    },
    {
      "cell_type": "markdown",
      "metadata": {
        "id": "lERUliPjoIrS"
      },
      "source": [
        "\n",
        "* Nome: Daniel de Almeida Duque\n",
        "* Curso: Engenharia de Computação"
      ]
    },
    {
      "cell_type": "markdown",
      "metadata": {
        "id": "fKRL4RAfnwuX"
      },
      "source": [
        "## Bibliotecas"
      ]
    },
    {
      "cell_type": "code",
      "execution_count": null,
      "metadata": {
        "id": "pZRGlZ_Vn6os"
      },
      "outputs": [],
      "source": [
        "# preparation to classify\n",
        "from sklearn import datasets\n",
        "from sklearn.preprocessing import StandardScaler\n",
        "from sklearn.pipeline import Pipeline\n",
        "\n",
        "from sklearn.model_selection import RepeatedStratifiedKFold\n",
        "from sklearn.model_selection import GridSearchCV\n",
        "from sklearn.model_selection import cross_val_score\n",
        "\n",
        "# classifiers - first step\n",
        "from sklearn.utils.validation import check_X_y\n",
        "from sklearn.base import BaseEstimator\n",
        "from sklearn.dummy import DummyClassifier\n",
        "from sklearn.neighbors import KNeighborsClassifier\n",
        "from sklearn.naive_bayes import GaussianNB\n",
        "from sklearn.tree import DecisionTreeClassifier\n",
        "from sklearn.cluster import KMeans\n",
        "\n",
        "# results\n",
        "from sklearn.metrics import accuracy_score\n",
        "from sklearn.metrics import classification_report\n",
        "from scipy.stats import ttest_rel as t_test\n",
        "from scipy.stats import wilcoxon\n",
        "from scipy import stats\n",
        "\n",
        "# variety\n",
        "import math\n",
        "import numpy as np\n",
        "import pandas as pd\n",
        "import seaborn as sns\n",
        "import matplotlib.pyplot as plt\n",
        "from scipy.spatial import distance\n",
        "from collections import Counter"
      ]
    },
    {
      "cell_type": "markdown",
      "metadata": {
        "id": "YmdPY8vOwH4r"
      },
      "source": [
        "## Parâmetros Predefinidos"
      ]
    },
    {
      "cell_type": "code",
      "execution_count": null,
      "metadata": {
        "id": "nwNJSReRnwbO"
      },
      "outputs": [],
      "source": [
        "n_repeats = 3 # number of rounds\n",
        "n_splits = 10 # number of folds for external test cicle\n",
        "cv = 4 # number of folds for internal validation cicle\n",
        "\n",
        "random_state = 36851234 # random state for Repeated Stratified K Fold\n",
        "\n",
        "# grid search\n",
        "KMC_gs_param = {'estimator__cx': [KMeans(1), KMeans(3), KMeans(5), KMeans(7)]}\n",
        "KNN_gs_param = {'estimator__n_neighbors': [1, 3, 5, 7]}\n",
        "AD_gs_param = {'estimator__max_depth': [None, 3, 5, 10]}\n",
        "\n",
        "# results\n",
        "scoring = 'accuracy'\n",
        "confiance_interval = 0.95 # 95%\n",
        "alpha = 1 - confiance_interval # 5%\n",
        "\n",
        "# 10 folds with 3 repeats\n",
        "rskf = RepeatedStratifiedKFold(n_splits=n_splits, \n",
        "                               n_repeats=n_repeats, \n",
        "                               random_state=random_state)\n",
        "\n",
        "# z-score\n",
        "scaler = StandardScaler()"
      ]
    },
    {
      "cell_type": "markdown",
      "metadata": {
        "id": "OdEptLCFyd1C"
      },
      "source": [
        "## Dataset"
      ]
    },
    {
      "cell_type": "markdown",
      "metadata": {
        "id": "yp1p6WkUPjJ3"
      },
      "source": [
        "### Importação dos Dados"
      ]
    },
    {
      "cell_type": "markdown",
      "metadata": {
        "id": "EUGi319k-JvB"
      },
      "source": [
        "Usando dataset do sklearn"
      ]
    },
    {
      "cell_type": "code",
      "execution_count": null,
      "metadata": {
        "colab": {
          "base_uri": "https://localhost:8080/"
        },
        "id": "LeYSzYfmDZzA",
        "outputId": "b0962d04-9ee8-4217-b185-60d053fd4016"
      },
      "outputs": [
        {
          "data": {
            "text/plain": [
              "(array([[1.423e+01, 1.710e+00, 2.430e+00, 1.560e+01, 1.270e+02, 2.800e+00,\n",
              "         3.060e+00, 2.800e-01, 2.290e+00, 5.640e+00, 1.040e+00, 3.920e+00,\n",
              "         1.065e+03],\n",
              "        [1.320e+01, 1.780e+00, 2.140e+00, 1.120e+01, 1.000e+02, 2.650e+00,\n",
              "         2.760e+00, 2.600e-01, 1.280e+00, 4.380e+00, 1.050e+00, 3.400e+00,\n",
              "         1.050e+03],\n",
              "        [1.316e+01, 2.360e+00, 2.670e+00, 1.860e+01, 1.010e+02, 2.800e+00,\n",
              "         3.240e+00, 3.000e-01, 2.810e+00, 5.680e+00, 1.030e+00, 3.170e+00,\n",
              "         1.185e+03]]), array([0, 0, 0]))"
            ]
          },
          "execution_count": 3,
          "metadata": {},
          "output_type": "execute_result"
        }
      ],
      "source": [
        "df = datasets.load_wine(as_frame=True).frame\n",
        "\n",
        "X, y = datasets.load_wine(return_X_y=True)\n",
        "_, features = X.shape\n",
        "\n",
        "target_names = datasets.load_wine().target_names\n",
        "X[:3], y[:3]"
      ]
    },
    {
      "cell_type": "markdown",
      "metadata": {
        "id": "mdqg5cfO-L77"
      },
      "source": [
        "Usando dataset próprio"
      ]
    },
    {
      "cell_type": "code",
      "execution_count": null,
      "metadata": {
        "id": "tAx-LY7D0IRN"
      },
      "outputs": [],
      "source": [
        "# df_input = pd.read_csv('fviii_point_missense_mutation_database.csv')\n",
        "# df_input.head()\n",
        "\n",
        "# sev_to_int = {'Mild': 0,\n",
        "#               'Moderate': 1,\n",
        "#               'Severe': 2}\n",
        "\n",
        "# X = np.array([list(i) for i in zip(df_input.dist_aa.values, df_input.rsa.values)])\n",
        "# y = np.array([sev_to_int[i] for i in list(df_input.severity.values)])\n",
        "\n",
        "# data = pd.DataFrame(X, columns = ['dist_aa','rsa'])\n",
        "# X[:3], y[:3]"
      ]
    },
    {
      "cell_type": "markdown",
      "metadata": {
        "id": "7VP_5CsT9hWz"
      },
      "source": [
        "### Exploração dos Dados"
      ]
    },
    {
      "cell_type": "markdown",
      "metadata": {
        "id": "Xra_kTQc-X11"
      },
      "source": [
        "Explorando o banco de dados para escrever informações relevantes no artigo"
      ]
    },
    {
      "cell_type": "code",
      "execution_count": null,
      "metadata": {
        "colab": {
          "base_uri": "https://localhost:8080/",
          "height": 207
        },
        "id": "yUCi8qkFR66M",
        "outputId": "c82d1d5e-44ad-49de-8f14-7034fdb8ad22"
      },
      "outputs": [
        {
          "data": {
            "text/html": [
              "\n",
              "  <div id=\"df-e878ba08-87a2-43ae-978e-e7edf7f6c3b2\">\n",
              "    <div class=\"colab-df-container\">\n",
              "      <div>\n",
              "<style scoped>\n",
              "    .dataframe tbody tr th:only-of-type {\n",
              "        vertical-align: middle;\n",
              "    }\n",
              "\n",
              "    .dataframe tbody tr th {\n",
              "        vertical-align: top;\n",
              "    }\n",
              "\n",
              "    .dataframe thead th {\n",
              "        text-align: right;\n",
              "    }\n",
              "</style>\n",
              "<table border=\"1\" class=\"dataframe\">\n",
              "  <thead>\n",
              "    <tr style=\"text-align: right;\">\n",
              "      <th></th>\n",
              "      <th>alcohol</th>\n",
              "      <th>malic_acid</th>\n",
              "      <th>ash</th>\n",
              "      <th>alcalinity_of_ash</th>\n",
              "      <th>magnesium</th>\n",
              "      <th>total_phenols</th>\n",
              "      <th>flavanoids</th>\n",
              "      <th>nonflavanoid_phenols</th>\n",
              "      <th>proanthocyanins</th>\n",
              "      <th>color_intensity</th>\n",
              "      <th>hue</th>\n",
              "      <th>od280/od315_of_diluted_wines</th>\n",
              "      <th>proline</th>\n",
              "      <th>target</th>\n",
              "    </tr>\n",
              "  </thead>\n",
              "  <tbody>\n",
              "    <tr>\n",
              "      <th>0</th>\n",
              "      <td>14.23</td>\n",
              "      <td>1.71</td>\n",
              "      <td>2.43</td>\n",
              "      <td>15.6</td>\n",
              "      <td>127.0</td>\n",
              "      <td>2.80</td>\n",
              "      <td>3.06</td>\n",
              "      <td>0.28</td>\n",
              "      <td>2.29</td>\n",
              "      <td>5.64</td>\n",
              "      <td>1.04</td>\n",
              "      <td>3.92</td>\n",
              "      <td>1065.0</td>\n",
              "      <td>0</td>\n",
              "    </tr>\n",
              "    <tr>\n",
              "      <th>1</th>\n",
              "      <td>13.20</td>\n",
              "      <td>1.78</td>\n",
              "      <td>2.14</td>\n",
              "      <td>11.2</td>\n",
              "      <td>100.0</td>\n",
              "      <td>2.65</td>\n",
              "      <td>2.76</td>\n",
              "      <td>0.26</td>\n",
              "      <td>1.28</td>\n",
              "      <td>4.38</td>\n",
              "      <td>1.05</td>\n",
              "      <td>3.40</td>\n",
              "      <td>1050.0</td>\n",
              "      <td>0</td>\n",
              "    </tr>\n",
              "    <tr>\n",
              "      <th>2</th>\n",
              "      <td>13.16</td>\n",
              "      <td>2.36</td>\n",
              "      <td>2.67</td>\n",
              "      <td>18.6</td>\n",
              "      <td>101.0</td>\n",
              "      <td>2.80</td>\n",
              "      <td>3.24</td>\n",
              "      <td>0.30</td>\n",
              "      <td>2.81</td>\n",
              "      <td>5.68</td>\n",
              "      <td>1.03</td>\n",
              "      <td>3.17</td>\n",
              "      <td>1185.0</td>\n",
              "      <td>0</td>\n",
              "    </tr>\n",
              "  </tbody>\n",
              "</table>\n",
              "</div>\n",
              "      <button class=\"colab-df-convert\" onclick=\"convertToInteractive('df-e878ba08-87a2-43ae-978e-e7edf7f6c3b2')\"\n",
              "              title=\"Convert this dataframe to an interactive table.\"\n",
              "              style=\"display:none;\">\n",
              "        \n",
              "  <svg xmlns=\"http://www.w3.org/2000/svg\" height=\"24px\"viewBox=\"0 0 24 24\"\n",
              "       width=\"24px\">\n",
              "    <path d=\"M0 0h24v24H0V0z\" fill=\"none\"/>\n",
              "    <path d=\"M18.56 5.44l.94 2.06.94-2.06 2.06-.94-2.06-.94-.94-2.06-.94 2.06-2.06.94zm-11 1L8.5 8.5l.94-2.06 2.06-.94-2.06-.94L8.5 2.5l-.94 2.06-2.06.94zm10 10l.94 2.06.94-2.06 2.06-.94-2.06-.94-.94-2.06-.94 2.06-2.06.94z\"/><path d=\"M17.41 7.96l-1.37-1.37c-.4-.4-.92-.59-1.43-.59-.52 0-1.04.2-1.43.59L10.3 9.45l-7.72 7.72c-.78.78-.78 2.05 0 2.83L4 21.41c.39.39.9.59 1.41.59.51 0 1.02-.2 1.41-.59l7.78-7.78 2.81-2.81c.8-.78.8-2.07 0-2.86zM5.41 20L4 18.59l7.72-7.72 1.47 1.35L5.41 20z\"/>\n",
              "  </svg>\n",
              "      </button>\n",
              "      \n",
              "  <style>\n",
              "    .colab-df-container {\n",
              "      display:flex;\n",
              "      flex-wrap:wrap;\n",
              "      gap: 12px;\n",
              "    }\n",
              "\n",
              "    .colab-df-convert {\n",
              "      background-color: #E8F0FE;\n",
              "      border: none;\n",
              "      border-radius: 50%;\n",
              "      cursor: pointer;\n",
              "      display: none;\n",
              "      fill: #1967D2;\n",
              "      height: 32px;\n",
              "      padding: 0 0 0 0;\n",
              "      width: 32px;\n",
              "    }\n",
              "\n",
              "    .colab-df-convert:hover {\n",
              "      background-color: #E2EBFA;\n",
              "      box-shadow: 0px 1px 2px rgba(60, 64, 67, 0.3), 0px 1px 3px 1px rgba(60, 64, 67, 0.15);\n",
              "      fill: #174EA6;\n",
              "    }\n",
              "\n",
              "    [theme=dark] .colab-df-convert {\n",
              "      background-color: #3B4455;\n",
              "      fill: #D2E3FC;\n",
              "    }\n",
              "\n",
              "    [theme=dark] .colab-df-convert:hover {\n",
              "      background-color: #434B5C;\n",
              "      box-shadow: 0px 1px 3px 1px rgba(0, 0, 0, 0.15);\n",
              "      filter: drop-shadow(0px 1px 2px rgba(0, 0, 0, 0.3));\n",
              "      fill: #FFFFFF;\n",
              "    }\n",
              "  </style>\n",
              "\n",
              "      <script>\n",
              "        const buttonEl =\n",
              "          document.querySelector('#df-e878ba08-87a2-43ae-978e-e7edf7f6c3b2 button.colab-df-convert');\n",
              "        buttonEl.style.display =\n",
              "          google.colab.kernel.accessAllowed ? 'block' : 'none';\n",
              "\n",
              "        async function convertToInteractive(key) {\n",
              "          const element = document.querySelector('#df-e878ba08-87a2-43ae-978e-e7edf7f6c3b2');\n",
              "          const dataTable =\n",
              "            await google.colab.kernel.invokeFunction('convertToInteractive',\n",
              "                                                     [key], {});\n",
              "          if (!dataTable) return;\n",
              "\n",
              "          const docLinkHtml = 'Like what you see? Visit the ' +\n",
              "            '<a target=\"_blank\" href=https://colab.research.google.com/notebooks/data_table.ipynb>data table notebook</a>'\n",
              "            + ' to learn more about interactive tables.';\n",
              "          element.innerHTML = '';\n",
              "          dataTable['output_type'] = 'display_data';\n",
              "          await google.colab.output.renderOutput(dataTable, element);\n",
              "          const docLink = document.createElement('div');\n",
              "          docLink.innerHTML = docLinkHtml;\n",
              "          element.appendChild(docLink);\n",
              "        }\n",
              "      </script>\n",
              "    </div>\n",
              "  </div>\n",
              "  "
            ],
            "text/plain": [
              "   alcohol  malic_acid   ash  alcalinity_of_ash  magnesium  total_phenols  \\\n",
              "0    14.23        1.71  2.43               15.6      127.0           2.80   \n",
              "1    13.20        1.78  2.14               11.2      100.0           2.65   \n",
              "2    13.16        2.36  2.67               18.6      101.0           2.80   \n",
              "\n",
              "   flavanoids  nonflavanoid_phenols  proanthocyanins  color_intensity   hue  \\\n",
              "0        3.06                  0.28             2.29             5.64  1.04   \n",
              "1        2.76                  0.26             1.28             4.38  1.05   \n",
              "2        3.24                  0.30             2.81             5.68  1.03   \n",
              "\n",
              "   od280/od315_of_diluted_wines  proline  target  \n",
              "0                          3.92   1065.0       0  \n",
              "1                          3.40   1050.0       0  \n",
              "2                          3.17   1185.0       0  "
            ]
          },
          "execution_count": 5,
          "metadata": {},
          "output_type": "execute_result"
        }
      ],
      "source": [
        "df.head(3)"
      ]
    },
    {
      "cell_type": "code",
      "execution_count": null,
      "metadata": {
        "colab": {
          "base_uri": "https://localhost:8080/",
          "height": 279
        },
        "id": "D4_CNL9RSBVu",
        "outputId": "8f54b018-cdad-4d45-db60-d963608f24d8"
      },
      "outputs": [
        {
          "data": {
            "image/png": "[encoded data removed]",
            "text/plain": [
              "<Figure size 432x288 with 1 Axes>"
            ]
          },
          "metadata": {
            "needs_background": "light"
          },
          "output_type": "display_data"
        }
      ],
      "source": [
        "sns.countplot(data=df, x='target');"
      ]
    },
    {
      "cell_type": "markdown",
      "metadata": {
        "id": "knOrr46PdPxr"
      },
      "source": [
        "* 3 classes: 0, 1 ou 2;"
      ]
    },
    {
      "cell_type": "code",
      "execution_count": null,
      "metadata": {
        "colab": {
          "base_uri": "https://localhost:8080/",
          "height": 364
        },
        "id": "2WUUenvthPcG",
        "outputId": "62776c6d-54ed-4dc0-8be0-22b5c5717cb6"
      },
      "outputs": [
        {
          "data": {
            "text/html": [
              "\n",
              "  <div id=\"df-141aecf8-4f04-4397-811b-1d33cbc2bd34\">\n",
              "    <div class=\"colab-df-container\">\n",
              "      <div>\n",
              "<style scoped>\n",
              "    .dataframe tbody tr th:only-of-type {\n",
              "        vertical-align: middle;\n",
              "    }\n",
              "\n",
              "    .dataframe tbody tr th {\n",
              "        vertical-align: top;\n",
              "    }\n",
              "\n",
              "    .dataframe thead th {\n",
              "        text-align: right;\n",
              "    }\n",
              "</style>\n",
              "<table border=\"1\" class=\"dataframe\">\n",
              "  <thead>\n",
              "    <tr style=\"text-align: right;\">\n",
              "      <th></th>\n",
              "      <th>alcohol</th>\n",
              "      <th>malic_acid</th>\n",
              "      <th>ash</th>\n",
              "      <th>alcalinity_of_ash</th>\n",
              "      <th>magnesium</th>\n",
              "      <th>total_phenols</th>\n",
              "      <th>flavanoids</th>\n",
              "      <th>nonflavanoid_phenols</th>\n",
              "      <th>proanthocyanins</th>\n",
              "      <th>color_intensity</th>\n",
              "      <th>hue</th>\n",
              "      <th>od280/od315_of_diluted_wines</th>\n",
              "      <th>proline</th>\n",
              "      <th>target</th>\n",
              "    </tr>\n",
              "  </thead>\n",
              "  <tbody>\n",
              "    <tr>\n",
              "      <th>count</th>\n",
              "      <td>178.000000</td>\n",
              "      <td>178.000000</td>\n",
              "      <td>178.000000</td>\n",
              "      <td>178.000000</td>\n",
              "      <td>178.000000</td>\n",
              "      <td>178.000000</td>\n",
              "      <td>178.000000</td>\n",
              "      <td>178.000000</td>\n",
              "      <td>178.000000</td>\n",
              "      <td>178.000000</td>\n",
              "      <td>178.000000</td>\n",
              "      <td>178.000000</td>\n",
              "      <td>178.000000</td>\n",
              "      <td>178.000000</td>\n",
              "    </tr>\n",
              "    <tr>\n",
              "      <th>mean</th>\n",
              "      <td>13.000618</td>\n",
              "      <td>2.336348</td>\n",
              "      <td>2.366517</td>\n",
              "      <td>19.494944</td>\n",
              "      <td>99.741573</td>\n",
              "      <td>2.295112</td>\n",
              "      <td>2.029270</td>\n",
              "      <td>0.361854</td>\n",
              "      <td>1.590899</td>\n",
              "      <td>5.058090</td>\n",
              "      <td>0.957449</td>\n",
              "      <td>2.611685</td>\n",
              "      <td>746.893258</td>\n",
              "      <td>0.938202</td>\n",
              "    </tr>\n",
              "    <tr>\n",
              "      <th>std</th>\n",
              "      <td>0.811827</td>\n",
              "      <td>1.117146</td>\n",
              "      <td>0.274344</td>\n",
              "      <td>3.339564</td>\n",
              "      <td>14.282484</td>\n",
              "      <td>0.625851</td>\n",
              "      <td>0.998859</td>\n",
              "      <td>0.124453</td>\n",
              "      <td>0.572359</td>\n",
              "      <td>2.318286</td>\n",
              "      <td>0.228572</td>\n",
              "      <td>0.709990</td>\n",
              "      <td>314.907474</td>\n",
              "      <td>0.775035</td>\n",
              "    </tr>\n",
              "    <tr>\n",
              "      <th>min</th>\n",
              "      <td>11.030000</td>\n",
              "      <td>0.740000</td>\n",
              "      <td>1.360000</td>\n",
              "      <td>10.600000</td>\n",
              "      <td>70.000000</td>\n",
              "      <td>0.980000</td>\n",
              "      <td>0.340000</td>\n",
              "      <td>0.130000</td>\n",
              "      <td>0.410000</td>\n",
              "      <td>1.280000</td>\n",
              "      <td>0.480000</td>\n",
              "      <td>1.270000</td>\n",
              "      <td>278.000000</td>\n",
              "      <td>0.000000</td>\n",
              "    </tr>\n",
              "    <tr>\n",
              "      <th>25%</th>\n",
              "      <td>12.362500</td>\n",
              "      <td>1.602500</td>\n",
              "      <td>2.210000</td>\n",
              "      <td>17.200000</td>\n",
              "      <td>88.000000</td>\n",
              "      <td>1.742500</td>\n",
              "      <td>1.205000</td>\n",
              "      <td>0.270000</td>\n",
              "      <td>1.250000</td>\n",
              "      <td>3.220000</td>\n",
              "      <td>0.782500</td>\n",
              "      <td>1.937500</td>\n",
              "      <td>500.500000</td>\n",
              "      <td>0.000000</td>\n",
              "    </tr>\n",
              "    <tr>\n",
              "      <th>50%</th>\n",
              "      <td>13.050000</td>\n",
              "      <td>1.865000</td>\n",
              "      <td>2.360000</td>\n",
              "      <td>19.500000</td>\n",
              "      <td>98.000000</td>\n",
              "      <td>2.355000</td>\n",
              "      <td>2.135000</td>\n",
              "      <td>0.340000</td>\n",
              "      <td>1.555000</td>\n",
              "      <td>4.690000</td>\n",
              "      <td>0.965000</td>\n",
              "      <td>2.780000</td>\n",
              "      <td>673.500000</td>\n",
              "      <td>1.000000</td>\n",
              "    </tr>\n",
              "    <tr>\n",
              "      <th>75%</th>\n",
              "      <td>13.677500</td>\n",
              "      <td>3.082500</td>\n",
              "      <td>2.557500</td>\n",
              "      <td>21.500000</td>\n",
              "      <td>107.000000</td>\n",
              "      <td>2.800000</td>\n",
              "      <td>2.875000</td>\n",
              "      <td>0.437500</td>\n",
              "      <td>1.950000</td>\n",
              "      <td>6.200000</td>\n",
              "      <td>1.120000</td>\n",
              "      <td>3.170000</td>\n",
              "      <td>985.000000</td>\n",
              "      <td>2.000000</td>\n",
              "    </tr>\n",
              "    <tr>\n",
              "      <th>max</th>\n",
              "      <td>14.830000</td>\n",
              "      <td>5.800000</td>\n",
              "      <td>3.230000</td>\n",
              "      <td>30.000000</td>\n",
              "      <td>162.000000</td>\n",
              "      <td>3.880000</td>\n",
              "      <td>5.080000</td>\n",
              "      <td>0.660000</td>\n",
              "      <td>3.580000</td>\n",
              "      <td>13.000000</td>\n",
              "      <td>1.710000</td>\n",
              "      <td>4.000000</td>\n",
              "      <td>1680.000000</td>\n",
              "      <td>2.000000</td>\n",
              "    </tr>\n",
              "  </tbody>\n",
              "</table>\n",
              "</div>\n",
              "      <button class=\"colab-df-convert\" onclick=\"convertToInteractive('df-141aecf8-4f04-4397-811b-1d33cbc2bd34')\"\n",
              "              title=\"Convert this dataframe to an interactive table.\"\n",
              "              style=\"display:none;\">\n",
              "        \n",
              "  <svg xmlns=\"http://www.w3.org/2000/svg\" height=\"24px\"viewBox=\"0 0 24 24\"\n",
              "       width=\"24px\">\n",
              "    <path d=\"M0 0h24v24H0V0z\" fill=\"none\"/>\n",
              "    <path d=\"M18.56 5.44l.94 2.06.94-2.06 2.06-.94-2.06-.94-.94-2.06-.94 2.06-2.06.94zm-11 1L8.5 8.5l.94-2.06 2.06-.94-2.06-.94L8.5 2.5l-.94 2.06-2.06.94zm10 10l.94 2.06.94-2.06 2.06-.94-2.06-.94-.94-2.06-.94 2.06-2.06.94z\"/><path d=\"M17.41 7.96l-1.37-1.37c-.4-.4-.92-.59-1.43-.59-.52 0-1.04.2-1.43.59L10.3 9.45l-7.72 7.72c-.78.78-.78 2.05 0 2.83L4 21.41c.39.39.9.59 1.41.59.51 0 1.02-.2 1.41-.59l7.78-7.78 2.81-2.81c.8-.78.8-2.07 0-2.86zM5.41 20L4 18.59l7.72-7.72 1.47 1.35L5.41 20z\"/>\n",
              "  </svg>\n",
              "      </button>\n",
              "      \n",
              "  <style>\n",
              "    .colab-df-container {\n",
              "      display:flex;\n",
              "      flex-wrap:wrap;\n",
              "      gap: 12px;\n",
              "    }\n",
              "\n",
              "    .colab-df-convert {\n",
              "      background-color: #E8F0FE;\n",
              "      border: none;\n",
              "      border-radius: 50%;\n",
              "      cursor: pointer;\n",
              "      display: none;\n",
              "      fill: #1967D2;\n",
              "      height: 32px;\n",
              "      padding: 0 0 0 0;\n",
              "      width: 32px;\n",
              "    }\n",
              "\n",
              "    .colab-df-convert:hover {\n",
              "      background-color: #E2EBFA;\n",
              "      box-shadow: 0px 1px 2px rgba(60, 64, 67, 0.3), 0px 1px 3px 1px rgba(60, 64, 67, 0.15);\n",
              "      fill: #174EA6;\n",
              "    }\n",
              "\n",
              "    [theme=dark] .colab-df-convert {\n",
              "      background-color: #3B4455;\n",
              "      fill: #D2E3FC;\n",
              "    }\n",
              "\n",
              "    [theme=dark] .colab-df-convert:hover {\n",
              "      background-color: #434B5C;\n",
              "      box-shadow: 0px 1px 3px 1px rgba(0, 0, 0, 0.15);\n",
              "      filter: drop-shadow(0px 1px 2px rgba(0, 0, 0, 0.3));\n",
              "      fill: #FFFFFF;\n",
              "    }\n",
              "  </style>\n",
              "\n",
              "      <script>\n",
              "        const buttonEl =\n",
              "          document.querySelector('#df-141aecf8-4f04-4397-811b-1d33cbc2bd34 button.colab-df-convert');\n",
              "        buttonEl.style.display =\n",
              "          google.colab.kernel.accessAllowed ? 'block' : 'none';\n",
              "\n",
              "        async function convertToInteractive(key) {\n",
              "          const element = document.querySelector('#df-141aecf8-4f04-4397-811b-1d33cbc2bd34');\n",
              "          const dataTable =\n",
              "            await google.colab.kernel.invokeFunction('convertToInteractive',\n",
              "                                                     [key], {});\n",
              "          if (!dataTable) return;\n",
              "\n",
              "          const docLinkHtml = 'Like what you see? Visit the ' +\n",
              "            '<a target=\"_blank\" href=https://colab.research.google.com/notebooks/data_table.ipynb>data table notebook</a>'\n",
              "            + ' to learn more about interactive tables.';\n",
              "          element.innerHTML = '';\n",
              "          dataTable['output_type'] = 'display_data';\n",
              "          await google.colab.output.renderOutput(dataTable, element);\n",
              "          const docLink = document.createElement('div');\n",
              "          docLink.innerHTML = docLinkHtml;\n",
              "          element.appendChild(docLink);\n",
              "        }\n",
              "      </script>\n",
              "    </div>\n",
              "  </div>\n",
              "  "
            ],
            "text/plain": [
              "          alcohol  malic_acid         ash  alcalinity_of_ash   magnesium  \\\n",
              "count  178.000000  178.000000  178.000000         178.000000  178.000000   \n",
              "mean    13.000618    2.336348    2.366517          19.494944   99.741573   \n",
              "std      0.811827    1.117146    0.274344           3.339564   14.282484   \n",
              "min     11.030000    0.740000    1.360000          10.600000   70.000000   \n",
              "25%     12.362500    1.602500    2.210000          17.200000   88.000000   \n",
              "50%     13.050000    1.865000    2.360000          19.500000   98.000000   \n",
              "75%     13.677500    3.082500    2.557500          21.500000  107.000000   \n",
              "max     14.830000    5.800000    3.230000          30.000000  162.000000   \n",
              "\n",
              "       total_phenols  flavanoids  nonflavanoid_phenols  proanthocyanins  \\\n",
              "count     178.000000  178.000000            178.000000       178.000000   \n",
              "mean        2.295112    2.029270              0.361854         1.590899   \n",
              "std         0.625851    0.998859              0.124453         0.572359   \n",
              "min         0.980000    0.340000              0.130000         0.410000   \n",
              "25%         1.742500    1.205000              0.270000         1.250000   \n",
              "50%         2.355000    2.135000              0.340000         1.555000   \n",
              "75%         2.800000    2.875000              0.437500         1.950000   \n",
              "max         3.880000    5.080000              0.660000         3.580000   \n",
              "\n",
              "       color_intensity         hue  od280/od315_of_diluted_wines      proline  \\\n",
              "count       178.000000  178.000000                    178.000000   178.000000   \n",
              "mean          5.058090    0.957449                      2.611685   746.893258   \n",
              "std           2.318286    0.228572                      0.709990   314.907474   \n",
              "min           1.280000    0.480000                      1.270000   278.000000   \n",
              "25%           3.220000    0.782500                      1.937500   500.500000   \n",
              "50%           4.690000    0.965000                      2.780000   673.500000   \n",
              "75%           6.200000    1.120000                      3.170000   985.000000   \n",
              "max          13.000000    1.710000                      4.000000  1680.000000   \n",
              "\n",
              "           target  \n",
              "count  178.000000  \n",
              "mean     0.938202  \n",
              "std      0.775035  \n",
              "min      0.000000  \n",
              "25%      0.000000  \n",
              "50%      1.000000  \n",
              "75%      2.000000  \n",
              "max      2.000000  "
            ]
          },
          "execution_count": 7,
          "metadata": {},
          "output_type": "execute_result"
        }
      ],
      "source": [
        "df.describe()"
      ]
    },
    {
      "cell_type": "code",
      "execution_count": null,
      "metadata": {
        "id": "bZknB7uTUpQw"
      },
      "outputs": [],
      "source": [
        "df_describe = df.describe()\n",
        "df_describe = df_describe.applymap(lambda x: f'{x:.2f}')\n",
        "\n",
        "with pd.ExcelWriter('describe_table.xlsx') as writer:\n",
        "  df_describe.to_excel(writer, sheet_name='sheet_1')"
      ]
    },
    {
      "cell_type": "markdown",
      "metadata": {
        "id": "YF8K_iWLxHYd"
      },
      "source": [
        "## Classificação"
      ]
    },
    {
      "cell_type": "markdown",
      "metadata": {
        "id": "iGil7heZDQuK"
      },
      "source": [
        "### 1º Etapa - ZR e NBG"
      ]
    },
    {
      "cell_type": "markdown",
      "metadata": {
        "id": "z3nzbG4K1xih"
      },
      "source": [
        "* Classificadores ZR e NBG não possuem hiperparâmetros.\n",
        "\n",
        "* Treino e teste - Validação Cruzada Estratificada:\n",
        "  * 3 rodadas de validação cruzada estratificada;\n",
        "  * 10 folds - ciclo de teste.\n",
        "\n",
        "* Padronizar o conjunto de treino em cada rodada de teste utilizando normalização com z-score e utilizar os valores obtidos para padronizar os dados do respectivo conjunto de teste."
      ]
    },
    {
      "cell_type": "code",
      "execution_count": null,
      "metadata": {
        "id": "9yZXtUkFK5bh"
      },
      "outputs": [],
      "source": [
        "def first_step(estimator):\n",
        "  # padroniza com z-score e executa classificacao com ZR ou NBG\n",
        "  pipeline = Pipeline([('scaler', scaler), ('estimator', estimator)])\n",
        "\n",
        "  scores = []\n",
        "  for train_index, test_index in rskf.split(X, y):\n",
        "    # divide em X e y em treino e teste\n",
        "    X_train, X_test = X[train_index], X[test_index]\n",
        "    y_train, y_test = y[train_index], y[test_index]\n",
        "    # padroniza e treina o classificador\n",
        "    pipeline.fit(X_train, y_train)\n",
        "    # padroniza e calcula score\n",
        "    s = pipeline.score(X_test, y_test)\n",
        "    scores.append(s)\n",
        "  \n",
        "  scores = np.array(scores)\n",
        "  return scores"
      ]
    },
    {
      "cell_type": "markdown",
      "metadata": {
        "id": "nY153_-HaxV0"
      },
      "source": [
        "### 2º Etapa - KMC, KNN e AD"
      ]
    },
    {
      "cell_type": "markdown",
      "metadata": {
        "id": "fvtJUJAf1vpu"
      },
      "source": [
        "* Treino, validação e teste:\n",
        "  * 3 rodadas de ciclos aninhados de validação e teste;\n",
        "  * 4 folds - ciclo interno de validação;\n",
        "  * 10 folds - ciclo externo de teste.\n",
        "\n",
        "* Padronizar o conjunto de treino em cada rodada de teste utilizando normalização com z-score e utilizar os valores obtidos para padronizar os dados do respectivo conjunto de teste."
      ]
    },
    {
      "cell_type": "code",
      "execution_count": null,
      "metadata": {
        "id": "eOiPtifBZoiK"
      },
      "outputs": [],
      "source": [
        "def second_step(estimator, param_grid):\n",
        "  # padroniza com z-score e executa classificacao com KMC, KNN ou AD\n",
        "  pipeline = Pipeline([('scaler', scaler), ('estimator', estimator)])  \n",
        "\n",
        "  # gridsearch com os parametros definidos nas especificações\n",
        "  gs = GridSearchCV(estimator = pipeline,\n",
        "                    param_grid = param_grid,\n",
        "                    scoring = scoring,\n",
        "                    cv = cv)\n",
        "  \n",
        "  # scores com base no gridsearch\n",
        "  scores = cross_val_score(estimator = gs,\n",
        "                           X = X,\n",
        "                           y = y,\n",
        "                           scoring = scoring,\n",
        "                           cv = rskf)\n",
        "  \n",
        "  scores = np.array(scores)\n",
        "  return scores"
      ]
    },
    {
      "cell_type": "markdown",
      "metadata": {
        "id": "ZvRZTL6vfTUv"
      },
      "source": [
        "### KMC"
      ]
    },
    {
      "cell_type": "markdown",
      "metadata": {
        "id": "NwjL_vNrhy06"
      },
      "source": [
        "#### Preparação"
      ]
    },
    {
      "cell_type": "markdown",
      "metadata": {
        "id": "TpW9LcsYCFBu"
      },
      "source": [
        "Implementação de todas funções para executar o KMC"
      ]
    },
    {
      "cell_type": "markdown",
      "metadata": {
        "id": "u2zf17IMXnGY"
      },
      "source": [
        "Forma K grupos para 1 classe"
      ]
    },
    {
      "cell_type": "code",
      "execution_count": null,
      "metadata": {
        "id": "5-fTm970ZVnb"
      },
      "outputs": [],
      "source": [
        "def group_by(elements, labels):\n",
        "  # pega as keys com base nos labels\n",
        "  keys = np.unique(labels)\n",
        "  # dicionário com key = label e value = lista de elementos do mesmo label\n",
        "  d = {key: [] for key in keys}\n",
        "  # agrupa os elementos de mesmo label\n",
        "  for i in range(len(elements)):\n",
        "    k = labels[i]\n",
        "    v = elements[i]\n",
        "    d[k].append(v)\n",
        "  # converte a lista de elementos para numpy array\n",
        "  for k, v in d.items():\n",
        "    d[k] = np.array(np.stack(v, axis=0))\n",
        "  \n",
        "  return d"
      ]
    },
    {
      "cell_type": "code",
      "execution_count": null,
      "metadata": {
        "id": "dPlGt6Z_dWHl"
      },
      "outputs": [],
      "source": [
        "def k_group_by(elements, kmeans):\n",
        "  # agrupa os elementos com respectivos labels definido pelo agrupamento kmeans\n",
        "  kmeans.fit(elements)\n",
        "  labels = kmeans.labels_  \n",
        "  k_groups = group_by(elements=elements, labels=labels)\n",
        "  \n",
        "  return k_groups"
      ]
    },
    {
      "cell_type": "markdown",
      "metadata": {
        "id": "N11NDKixX3Pc"
      },
      "source": [
        "Forma K grupos para ncl classes"
      ]
    },
    {
      "cell_type": "code",
      "execution_count": null,
      "metadata": {
        "id": "TUFghLYjjhmh"
      },
      "outputs": [],
      "source": [
        "def kmc_init_k_ncl_groups(X, y, kmeans):\n",
        "  # cria os grupos das classes\n",
        "  k_ncl_groups = group_by(X, y)\n",
        "  # cria os K grupos para cada classe\n",
        "  for k, v in k_ncl_groups.items():\n",
        "    k_ncl_groups[k] = k_group_by(v, kmeans)\n",
        "\n",
        "  return k_ncl_groups"
      ]
    },
    {
      "cell_type": "code",
      "execution_count": null,
      "metadata": {
        "id": "n3uWO44akzx3"
      },
      "outputs": [],
      "source": [
        "# o algoritmo KMC forma inicialmente K*ncl grupos, sendo K grupos em cada uma das ncl classes.\n",
        "kmc_init = kmc_init_k_ncl_groups(X, y, KMeans(n_clusters=3))"
      ]
    },
    {
      "cell_type": "markdown",
      "metadata": {
        "id": "5crTO4Xvlr8h"
      },
      "source": [
        "Calcula centróide para 1 grupo"
      ]
    },
    {
      "cell_type": "code",
      "execution_count": null,
      "metadata": {
        "id": "3O0vuAoJlyUj"
      },
      "outputs": [],
      "source": [
        "def calculate_centroid(nd_array):\n",
        "  # num_col - numero de colunas\n",
        "  _, num_col = nd_array.shape\n",
        "  # centroide = conjuntos das medianas das colunas do array n dimensional\n",
        "  centroid = []\n",
        "  for col_index in range(num_col):\n",
        "    # pega uma coluna\n",
        "    col_array = nd_array[:,col_index]\n",
        "    # calcula a mediana da coluna\n",
        "    col_median = round(np.median(col_array), 3)\n",
        "    # adiciona mediana da coluna no centroid\n",
        "    centroid.append(col_median)\n",
        "\n",
        "  return centroid"
      ]
    },
    {
      "cell_type": "markdown",
      "metadata": {
        "id": "tsVhj9ykp_Qd"
      },
      "source": [
        "Calcula centróide para K*ncl grupos"
      ]
    },
    {
      "cell_type": "code",
      "execution_count": null,
      "metadata": {
        "id": "MVeDulAmjS-q"
      },
      "outputs": [],
      "source": [
        "def calculate_centroid_each_group(k_ncl_groups):\n",
        "  # calcula centroide para todos K*ncl grupos\n",
        "  list_class_centroid = []\n",
        "  for classe, groups in k_ncl_groups.items():\n",
        "    for _, group in groups.items():\n",
        "      # calcula centroide de um grupo\n",
        "      group_centroid = calculate_centroid(group)\n",
        "      # faz tupla com a classe e seu centroide\n",
        "      list_class_centroid.append((classe, group_centroid))\n",
        "\n",
        "  return list_class_centroid "
      ]
    },
    {
      "cell_type": "code",
      "execution_count": null,
      "metadata": {
        "colab": {
          "base_uri": "https://localhost:8080/"
        },
        "id": "YEBFgcBlp2j2",
        "outputId": "34811e8f-d6ed-4808-ec74-9cf23632bd7e"
      },
      "outputs": [
        {
          "data": {
            "text/plain": [
              "[(0,\n",
              "  [13.48,\n",
              "   1.9,\n",
              "   2.56,\n",
              "   17.5,\n",
              "   110.0,\n",
              "   2.7,\n",
              "   2.97,\n",
              "   0.28,\n",
              "   1.86,\n",
              "   4.6,\n",
              "   1.04,\n",
              "   3.38,\n",
              "   830.0]),\n",
              " (0,\n",
              "  [13.885,\n",
              "   1.745,\n",
              "   2.49,\n",
              "   17.05,\n",
              "   107.0,\n",
              "   2.915,\n",
              "   3.165,\n",
              "   0.295,\n",
              "   1.96,\n",
              "   6.1,\n",
              "   1.125,\n",
              "   2.89,\n",
              "   1292.5]),\n",
              " (0,\n",
              "  [13.78,\n",
              "   1.73,\n",
              "   2.375,\n",
              "   16.2,\n",
              "   101.0,\n",
              "   2.8,\n",
              "   2.93,\n",
              "   0.275,\n",
              "   1.86,\n",
              "   5.32,\n",
              "   1.04,\n",
              "   3.21,\n",
              "   1062.5]),\n",
              " (1,\n",
              "  [12.29,\n",
              "   1.63,\n",
              "   2.24,\n",
              "   20.8,\n",
              "   87.0,\n",
              "   2.2,\n",
              "   2.09,\n",
              "   0.37,\n",
              "   1.62,\n",
              "   2.9,\n",
              "   0.98,\n",
              "   2.87,\n",
              "   428.0]),\n",
              " (1,\n",
              "  [12.38,\n",
              "   1.565,\n",
              "   2.255,\n",
              "   20.7,\n",
              "   121.0,\n",
              "   2.9,\n",
              "   2.205,\n",
              "   0.265,\n",
              "   1.805,\n",
              "   3.13,\n",
              "   1.075,\n",
              "   2.88,\n",
              "   911.5]),\n",
              " (1,\n",
              "  [12.08,\n",
              "   1.51,\n",
              "   2.29,\n",
              "   19.25,\n",
              "   94.0,\n",
              "   2.1,\n",
              "   1.77,\n",
              "   0.335,\n",
              "   1.44,\n",
              "   2.92,\n",
              "   1.05,\n",
              "   2.77,\n",
              "   645.0]),\n",
              " (2,\n",
              "  [12.96,\n",
              "   3.24,\n",
              "   2.38,\n",
              "   21.0,\n",
              "   96.0,\n",
              "   1.7,\n",
              "   0.68,\n",
              "   0.5,\n",
              "   1.03,\n",
              "   7.65,\n",
              "   0.7,\n",
              "   1.68,\n",
              "   650.0]),\n",
              " (2,\n",
              "  [13.095,\n",
              "   3.43,\n",
              "   2.39,\n",
              "   21.75,\n",
              "   96.0,\n",
              "   1.515,\n",
              "   0.78,\n",
              "   0.475,\n",
              "   1.03,\n",
              "   6.16,\n",
              "   0.635,\n",
              "   1.615,\n",
              "   520.0]),\n",
              " (2,\n",
              "  [13.27,\n",
              "   3.57,\n",
              "   2.37,\n",
              "   20.5,\n",
              "   102.0,\n",
              "   1.59,\n",
              "   0.68,\n",
              "   0.43,\n",
              "   1.3,\n",
              "   7.7,\n",
              "   0.65,\n",
              "   1.73,\n",
              "   830.0])]"
            ]
          },
          "execution_count": 17,
          "metadata": {},
          "output_type": "execute_result"
        }
      ],
      "source": [
        "# calcula os centróides de cada um dos grupos e este centróide é associado a classe do grupo a partir do qual foi gerado\n",
        "kmc_centroids = calculate_centroid_each_group(kmc_init)\n",
        "kmc_centroids"
      ]
    },
    {
      "cell_type": "markdown",
      "metadata": {
        "id": "zjU6v229qRt2"
      },
      "source": [
        "Centroid mais próximo de 1 elemento"
      ]
    },
    {
      "cell_type": "code",
      "execution_count": null,
      "metadata": {
        "id": "NUPoNJN7qLrp"
      },
      "outputs": [],
      "source": [
        "def class_of_closer_centroid(element, class_centroids):\n",
        "  # retorna a classe do centroide mais perto\n",
        "  min_tup = (1_000_000, 1_000_000, 1_000_000)  \n",
        "  for classe, centroid in class_centroids:\n",
        "    # pega a menor distancia\n",
        "    _, _, min_dist = min_tup\n",
        "    # calcula distancia do elemento ao centroide\n",
        "    dist = distance.euclidean(centroid, element)\n",
        "    # se a distancia atual for menor do que menor, muda a menor distancia\n",
        "    if dist < min_dist:\n",
        "      min_tup = (element, (classe, centroid), dist)\n",
        "  \n",
        "  # pega a classe do menor centroide\n",
        "  _, closer_class_centroid, _ = min_tup\n",
        "  return closer_class_centroid"
      ]
    },
    {
      "cell_type": "code",
      "execution_count": null,
      "metadata": {
        "colab": {
          "base_uri": "https://localhost:8080/"
        },
        "id": "7NJRH2TarnZk",
        "outputId": "5a7bc6bd-a8a2-4d29-97c3-a16e39a82e1a"
      },
      "outputs": [
        {
          "data": {
            "text/plain": [
              "1"
            ]
          },
          "execution_count": 19,
          "metadata": {},
          "output_type": "execute_result"
        }
      ],
      "source": [
        "# associa o elemento com a classe do centroide mais perto\n",
        "\n",
        "class_element, _ = class_of_closer_centroid(list(range(0, features)), kmc_centroids)\n",
        "class_element"
      ]
    },
    {
      "cell_type": "markdown",
      "metadata": {
        "id": "etNJGNkartVe"
      },
      "source": [
        "Centroid mais próximo de todos elementos"
      ]
    },
    {
      "cell_type": "code",
      "execution_count": null,
      "metadata": {
        "id": "g-O2NmuTrtKy"
      },
      "outputs": [],
      "source": [
        "def class_of_closer_centroid_each_element(elements, class_centroids):\n",
        "  # ver centroide mais proximo de cada elemento e classifica conforme a classe\n",
        "  y_pred = []\n",
        "  for element in elements:\n",
        "    # centroide mais proximo de um elemento\n",
        "    class_element, _ = class_of_closer_centroid(element, class_centroids)\n",
        "    # adiciona na lista que e o y predito \n",
        "    y_pred.append(class_element)\n",
        "  \n",
        "  # numpy array que ja e o y predito\n",
        "  y_pred = np.array(y_pred)\n",
        "  return y_pred"
      ]
    },
    {
      "cell_type": "code",
      "execution_count": null,
      "metadata": {
        "colab": {
          "base_uri": "https://localhost:8080/"
        },
        "id": "B8CvlG3QsF9p",
        "outputId": "66eb05f9-9763-4ef0-8c1f-9eb96b967458"
      },
      "outputs": [
        {
          "data": {
            "text/plain": [
              "array([0, 0, 0, 0, 2, 0, 0, 0, 0, 0, 0, 0, 0, 0, 0, 0, 0, 0, 0, 0, 0, 2,\n",
              "       0, 0, 2, 0, 0, 0, 1, 0, 0, 0, 0, 0, 0, 1, 1, 0, 0, 0, 0, 0, 0, 2,\n",
              "       1, 0, 0, 1, 0, 0, 0, 0, 0, 0, 0, 0, 1, 0, 0, 2, 2, 1, 1, 1, 1, 2,\n",
              "       2, 2, 0, 2, 2, 1, 1, 1, 1, 1, 1, 2, 0, 1, 1, 2, 1, 2, 2, 1, 2, 2,\n",
              "       2, 1, 2, 1, 2, 1, 1, 1, 1, 1, 2, 1, 2, 2, 1, 1, 2, 1, 2, 2, 1, 2,\n",
              "       2, 1, 1, 1, 1, 1, 2, 1, 1, 2, 1, 1, 1, 1, 1, 1, 1, 1, 1, 2, 1, 2,\n",
              "       2, 1, 1, 2, 2, 2, 2, 1, 1, 2, 2, 2, 0, 2, 1, 1, 2, 2, 2, 2, 1, 2,\n",
              "       1, 2, 2, 1, 2, 1, 2, 2, 2, 2, 1, 2, 2, 2, 2, 1, 2, 1, 2, 2, 2, 0,\n",
              "       0, 2])"
            ]
          },
          "execution_count": 21,
          "metadata": {},
          "output_type": "execute_result"
        }
      ],
      "source": [
        "class_of_closer_centroid_each_element(X, kmc_centroids)"
      ]
    },
    {
      "cell_type": "markdown",
      "metadata": {
        "id": "csmr1HrQwqwC"
      },
      "source": [
        "#### Definição"
      ]
    },
    {
      "cell_type": "markdown",
      "metadata": {
        "id": "BHeSHUK1k3Cu"
      },
      "source": [
        "Definição do classificador KMC usando o KMeans como BaseEstimator"
      ]
    },
    {
      "cell_type": "code",
      "execution_count": null,
      "metadata": {
        "id": "-tjsuUTbt0te"
      },
      "outputs": [],
      "source": [
        "class KMCClassifier(BaseEstimator):\n",
        "  def __init__(self, cx=None, cy=None):\n",
        "    super().__init__()\n",
        "    self.cx = cx\n",
        "    self.cy = cy\n",
        "\n",
        "  def fit(self, x_train, y_train):\n",
        "    x_train, y_train = check_X_y(x_train, y_train)\n",
        "    # cria os K*ncl grupos iniciais\n",
        "    kmc_init = kmc_init_k_ncl_groups(x_train, y_train, self.cx)\n",
        "    # calcula os centroides para os K*ncl grupos e associa as respectivas classes\n",
        "    class_centroids = calculate_centroid_each_group(kmc_init)\n",
        "\n",
        "    # guarda os centroides com suas classes para usar na predicao\n",
        "    self.__self_pred = class_centroids\n",
        "\n",
        "  def predict(self, x_test):\n",
        "    # verifica o centroide mais próximo para cada elemento do vetor e associa a classe\n",
        "    y_pred = class_of_closer_centroid_each_element(x_test, self.__self_pred)\n",
        "    # retorna o y predito usando KMC\n",
        "    return y_pred"
      ]
    },
    {
      "cell_type": "code",
      "execution_count": null,
      "metadata": {
        "colab": {
          "base_uri": "https://localhost:8080/"
        },
        "id": "R7Ig5YZrwxM0",
        "outputId": "9341aa5b-bd30-4371-8552-e714ace46358"
      },
      "outputs": [
        {
          "name": "stdout",
          "output_type": "stream",
          "text": [
            "              precision    recall  f1-score   support\n",
            "\n",
            "           0       0.91      0.83      0.87        59\n",
            "           1       0.68      0.59      0.63        71\n",
            "           2       0.50      0.65      0.56        48\n",
            "\n",
            "    accuracy                           0.69       178\n",
            "   macro avg       0.69      0.69      0.69       178\n",
            "weighted avg       0.71      0.69      0.69       178\n",
            "\n"
          ]
        }
      ],
      "source": [
        "kmc = KMCClassifier(KMeans(n_clusters=3))\n",
        "kmc.fit(X, y)\n",
        "y_pred = kmc.predict(X)\n",
        "\n",
        "report = classification_report(y, y_pred, zero_division=0)\n",
        "print(report)"
      ]
    },
    {
      "cell_type": "markdown",
      "metadata": {
        "id": "R0KfTNVfzBPT"
      },
      "source": [
        "## Execução dos Classificadores"
      ]
    },
    {
      "cell_type": "markdown",
      "metadata": {
        "id": "-M_mW-O0k9n9"
      },
      "source": [
        "Execução e cálculo do score de todos classificadores"
      ]
    },
    {
      "cell_type": "code",
      "execution_count": null,
      "metadata": {
        "id": "k1Qu802CZ1SW"
      },
      "outputs": [],
      "source": [
        "dict_scores = {}\n",
        "\n",
        "# 1º step\n",
        "ZR = DummyClassifier()\n",
        "NBG = GaussianNB()\n",
        "\n",
        "ZR_scores = first_step(ZR)\n",
        "NBG_scores = first_step(NBG)\n",
        "\n",
        "dict_scores['ZR'] = ZR_scores\n",
        "dict_scores['NBG'] = NBG_scores\n",
        "\n",
        "# 2º step\n",
        "KMC = KMCClassifier(KMeans())\n",
        "KNN = KNeighborsClassifier()\n",
        "AD = DecisionTreeClassifier()\n",
        "\n",
        "KMC_scores = second_step(KMC, KMC_gs_param)\n",
        "KNN_scores = second_step(KNN, KNN_gs_param)\n",
        "AD_scores = second_step(AD, AD_gs_param)\n",
        "\n",
        "dict_scores['KMC'] = KMC_scores\n",
        "dict_scores['KNN'] = KNN_scores\n",
        "dict_scores['AD'] = AD_scores"
      ]
    },
    {
      "cell_type": "code",
      "execution_count": null,
      "metadata": {
        "colab": {
          "base_uri": "https://localhost:8080/"
        },
        "id": "Dbu7rsSm8iKL",
        "outputId": "bb5987f3-d9f4-494f-8430-2c7e877189e8"
      },
      "outputs": [
        {
          "data": {
            "text/plain": [
              "{'AD': array([0.94444444, 1.        , 0.83333333, 0.88888889, 0.83333333,\n",
              "        0.94444444, 0.94444444, 0.94444444, 0.94117647, 0.88235294,\n",
              "        0.94444444, 1.        , 0.94444444, 1.        , 0.94444444,\n",
              "        0.72222222, 0.94444444, 0.88888889, 1.        , 0.88235294,\n",
              "        0.94444444, 0.83333333, 0.94444444, 0.88888889, 0.88888889,\n",
              "        0.83333333, 0.94444444, 0.83333333, 0.94117647, 1.        ]),\n",
              " 'KMC': array([1.        , 0.94444444, 0.94444444, 0.94444444, 0.94444444,\n",
              "        0.94444444, 1.        , 1.        , 1.        , 0.82352941,\n",
              "        0.94444444, 1.        , 1.        , 1.        , 0.94444444,\n",
              "        0.77777778, 0.94444444, 1.        , 1.        , 0.88235294,\n",
              "        0.94444444, 1.        , 1.        , 0.94444444, 0.94444444,\n",
              "        1.        , 0.88888889, 0.94444444, 0.94117647, 1.        ]),\n",
              " 'KNN': array([1.        , 1.        , 1.        , 0.94444444, 0.94444444,\n",
              "        0.94444444, 1.        , 0.94444444, 1.        , 0.82352941,\n",
              "        0.94444444, 0.94444444, 1.        , 1.        , 1.        ,\n",
              "        0.77777778, 1.        , 1.        , 1.        , 0.88235294,\n",
              "        0.94444444, 0.94444444, 0.94444444, 0.94444444, 1.        ,\n",
              "        1.        , 1.        , 0.94444444, 0.94117647, 1.        ]),\n",
              " 'NBG': array([1.        , 1.        , 1.        , 1.        , 0.88888889,\n",
              "        1.        , 1.        , 1.        , 1.        , 0.88235294,\n",
              "        1.        , 1.        , 1.        , 1.        , 1.        ,\n",
              "        0.83333333, 1.        , 1.        , 1.        , 0.88235294,\n",
              "        1.        , 1.        , 1.        , 0.94444444, 1.        ,\n",
              "        0.94444444, 1.        , 0.94444444, 0.88235294, 1.        ]),\n",
              " 'ZR': array([0.38888889, 0.38888889, 0.38888889, 0.38888889, 0.38888889,\n",
              "        0.38888889, 0.38888889, 0.38888889, 0.41176471, 0.47058824,\n",
              "        0.38888889, 0.38888889, 0.38888889, 0.38888889, 0.38888889,\n",
              "        0.38888889, 0.38888889, 0.38888889, 0.41176471, 0.47058824,\n",
              "        0.38888889, 0.38888889, 0.38888889, 0.38888889, 0.38888889,\n",
              "        0.38888889, 0.38888889, 0.38888889, 0.41176471, 0.47058824])}"
            ]
          },
          "execution_count": 25,
          "metadata": {},
          "output_type": "execute_result"
        }
      ],
      "source": [
        "dict_scores"
      ]
    },
    {
      "cell_type": "markdown",
      "metadata": {
        "id": "R1IqQqpIvoYt"
      },
      "source": [
        "## Análise dos Resultados"
      ]
    },
    {
      "cell_type": "markdown",
      "metadata": {
        "id": "KkMAaA6qJKpi"
      },
      "source": [
        "### Boxplots"
      ]
    },
    {
      "cell_type": "code",
      "execution_count": null,
      "metadata": {
        "colab": {
          "base_uri": "https://localhost:8080/",
          "height": 442
        },
        "id": "zFvNI8aEc7Qo",
        "outputId": "d2729225-8c59-420e-b59a-85dd31c243a4"
      },
      "outputs": [
        {
          "data": {
            "image/png": "[encoded data removed]",
            "text/plain": [
              "<Figure size 504x504 with 1 Axes>"
            ]
          },
          "metadata": {
            "needs_background": "light"
          },
          "output_type": "display_data"
        }
      ],
      "source": [
        "df = pd.DataFrame(dict_scores)\n",
        "\n",
        "fig, axes = plt.subplots(figsize=(7, 7))\n",
        "sns.boxplot(data=df.loc[:,:])\n",
        "axes.set_xlabel('Classificador')\n",
        "axes.set_ylabel('Acurracy Score')\n",
        "\n",
        "plt.savefig('accuracy_boxplot.pdf')"
      ]
    },
    {
      "cell_type": "markdown",
      "metadata": {
        "id": "_IU5TrbzUPad"
      },
      "source": [
        "### Tabela de acurácia"
      ]
    },
    {
      "cell_type": "markdown",
      "metadata": {
        "id": "AJgsyqmVlFy_"
      },
      "source": [
        "Faz a tabela de acurácia como um dataframe"
      ]
    },
    {
      "cell_type": "code",
      "execution_count": null,
      "metadata": {
        "id": "fcVQBxiTUKGs"
      },
      "outputs": [],
      "source": [
        "def results_accuracy(scores):\n",
        "  mean = scores.mean()\n",
        "  std = scores.std()\n",
        "  inf, sup = stats.norm.interval(confiance_interval,\n",
        "                                 loc=mean,\n",
        "                                 scale=std/np.sqrt(len(scores)))\n",
        "  \n",
        "  return {'media': mean,\n",
        "          'desvio_padrao': std,\n",
        "          'limite_inferior': inf,\n",
        "          'limite_superior': sup}"
      ]
    },
    {
      "cell_type": "code",
      "execution_count": null,
      "metadata": {
        "id": "ZJF8WaRhJhwr"
      },
      "outputs": [],
      "source": [
        "def table_accuracy(scores):\n",
        "  d = {k:results_accuracy(v) for k, v in scores.items()}\n",
        "  df = pd.DataFrame(d).T\n",
        "  # arredonda os valores para 2 casas decimais\n",
        "  df = df.applymap(lambda x: f'{x:.2f}')\n",
        "\n",
        "  return df"
      ]
    },
    {
      "cell_type": "code",
      "execution_count": null,
      "metadata": {
        "colab": {
          "base_uri": "https://localhost:8080/",
          "height": 206
        },
        "id": "M1565kLFJ5Nr",
        "outputId": "94e3a24b-6179-42d4-e480-83fa1e80fd28"
      },
      "outputs": [
        {
          "data": {
            "text/html": [
              "\n",
              "  <div id=\"df-54c292c5-9208-455c-b837-7f2146bd1158\">\n",
              "    <div class=\"colab-df-container\">\n",
              "      <div>\n",
              "<style scoped>\n",
              "    .dataframe tbody tr th:only-of-type {\n",
              "        vertical-align: middle;\n",
              "    }\n",
              "\n",
              "    .dataframe tbody tr th {\n",
              "        vertical-align: top;\n",
              "    }\n",
              "\n",
              "    .dataframe thead th {\n",
              "        text-align: right;\n",
              "    }\n",
              "</style>\n",
              "<table border=\"1\" class=\"dataframe\">\n",
              "  <thead>\n",
              "    <tr style=\"text-align: right;\">\n",
              "      <th></th>\n",
              "      <th>media</th>\n",
              "      <th>desvio_padrao</th>\n",
              "      <th>limite_inferior</th>\n",
              "      <th>limite_superior</th>\n",
              "    </tr>\n",
              "  </thead>\n",
              "  <tbody>\n",
              "    <tr>\n",
              "      <th>ZR</th>\n",
              "      <td>0.40</td>\n",
              "      <td>0.02</td>\n",
              "      <td>0.39</td>\n",
              "      <td>0.41</td>\n",
              "    </tr>\n",
              "    <tr>\n",
              "      <th>NBG</th>\n",
              "      <td>0.97</td>\n",
              "      <td>0.05</td>\n",
              "      <td>0.96</td>\n",
              "      <td>0.99</td>\n",
              "    </tr>\n",
              "    <tr>\n",
              "      <th>KMC</th>\n",
              "      <td>0.95</td>\n",
              "      <td>0.05</td>\n",
              "      <td>0.94</td>\n",
              "      <td>0.97</td>\n",
              "    </tr>\n",
              "    <tr>\n",
              "      <th>KNN</th>\n",
              "      <td>0.96</td>\n",
              "      <td>0.05</td>\n",
              "      <td>0.94</td>\n",
              "      <td>0.98</td>\n",
              "    </tr>\n",
              "    <tr>\n",
              "      <th>AD</th>\n",
              "      <td>0.92</td>\n",
              "      <td>0.06</td>\n",
              "      <td>0.89</td>\n",
              "      <td>0.94</td>\n",
              "    </tr>\n",
              "  </tbody>\n",
              "</table>\n",
              "</div>\n",
              "      <button class=\"colab-df-convert\" onclick=\"convertToInteractive('df-54c292c5-9208-455c-b837-7f2146bd1158')\"\n",
              "              title=\"Convert this dataframe to an interactive table.\"\n",
              "              style=\"display:none;\">\n",
              "        \n",
              "  <svg xmlns=\"http://www.w3.org/2000/svg\" height=\"24px\"viewBox=\"0 0 24 24\"\n",
              "       width=\"24px\">\n",
              "    <path d=\"M0 0h24v24H0V0z\" fill=\"none\"/>\n",
              "    <path d=\"M18.56 5.44l.94 2.06.94-2.06 2.06-.94-2.06-.94-.94-2.06-.94 2.06-2.06.94zm-11 1L8.5 8.5l.94-2.06 2.06-.94-2.06-.94L8.5 2.5l-.94 2.06-2.06.94zm10 10l.94 2.06.94-2.06 2.06-.94-2.06-.94-.94-2.06-.94 2.06-2.06.94z\"/><path d=\"M17.41 7.96l-1.37-1.37c-.4-.4-.92-.59-1.43-.59-.52 0-1.04.2-1.43.59L10.3 9.45l-7.72 7.72c-.78.78-.78 2.05 0 2.83L4 21.41c.39.39.9.59 1.41.59.51 0 1.02-.2 1.41-.59l7.78-7.78 2.81-2.81c.8-.78.8-2.07 0-2.86zM5.41 20L4 18.59l7.72-7.72 1.47 1.35L5.41 20z\"/>\n",
              "  </svg>\n",
              "      </button>\n",
              "      \n",
              "  <style>\n",
              "    .colab-df-container {\n",
              "      display:flex;\n",
              "      flex-wrap:wrap;\n",
              "      gap: 12px;\n",
              "    }\n",
              "\n",
              "    .colab-df-convert {\n",
              "      background-color: #E8F0FE;\n",
              "      border: none;\n",
              "      border-radius: 50%;\n",
              "      cursor: pointer;\n",
              "      display: none;\n",
              "      fill: #1967D2;\n",
              "      height: 32px;\n",
              "      padding: 0 0 0 0;\n",
              "      width: 32px;\n",
              "    }\n",
              "\n",
              "    .colab-df-convert:hover {\n",
              "      background-color: #E2EBFA;\n",
              "      box-shadow: 0px 1px 2px rgba(60, 64, 67, 0.3), 0px 1px 3px 1px rgba(60, 64, 67, 0.15);\n",
              "      fill: #174EA6;\n",
              "    }\n",
              "\n",
              "    [theme=dark] .colab-df-convert {\n",
              "      background-color: #3B4455;\n",
              "      fill: #D2E3FC;\n",
              "    }\n",
              "\n",
              "    [theme=dark] .colab-df-convert:hover {\n",
              "      background-color: #434B5C;\n",
              "      box-shadow: 0px 1px 3px 1px rgba(0, 0, 0, 0.15);\n",
              "      filter: drop-shadow(0px 1px 2px rgba(0, 0, 0, 0.3));\n",
              "      fill: #FFFFFF;\n",
              "    }\n",
              "  </style>\n",
              "\n",
              "      <script>\n",
              "        const buttonEl =\n",
              "          document.querySelector('#df-54c292c5-9208-455c-b837-7f2146bd1158 button.colab-df-convert');\n",
              "        buttonEl.style.display =\n",
              "          google.colab.kernel.accessAllowed ? 'block' : 'none';\n",
              "\n",
              "        async function convertToInteractive(key) {\n",
              "          const element = document.querySelector('#df-54c292c5-9208-455c-b837-7f2146bd1158');\n",
              "          const dataTable =\n",
              "            await google.colab.kernel.invokeFunction('convertToInteractive',\n",
              "                                                     [key], {});\n",
              "          if (!dataTable) return;\n",
              "\n",
              "          const docLinkHtml = 'Like what you see? Visit the ' +\n",
              "            '<a target=\"_blank\" href=https://colab.research.google.com/notebooks/data_table.ipynb>data table notebook</a>'\n",
              "            + ' to learn more about interactive tables.';\n",
              "          element.innerHTML = '';\n",
              "          dataTable['output_type'] = 'display_data';\n",
              "          await google.colab.output.renderOutput(dataTable, element);\n",
              "          const docLink = document.createElement('div');\n",
              "          docLink.innerHTML = docLinkHtml;\n",
              "          element.appendChild(docLink);\n",
              "        }\n",
              "      </script>\n",
              "    </div>\n",
              "  </div>\n",
              "  "
            ],
            "text/plain": [
              "    media desvio_padrao limite_inferior limite_superior\n",
              "ZR   0.40          0.02            0.39            0.41\n",
              "NBG  0.97          0.05            0.96            0.99\n",
              "KMC  0.95          0.05            0.94            0.97\n",
              "KNN  0.96          0.05            0.94            0.98\n",
              "AD   0.92          0.06            0.89            0.94"
            ]
          },
          "execution_count": 29,
          "metadata": {},
          "output_type": "execute_result"
        }
      ],
      "source": [
        "df_acc = table_accuracy(dict_scores)\n",
        "df_acc"
      ]
    },
    {
      "cell_type": "code",
      "execution_count": null,
      "metadata": {
        "id": "ZI6sJy1yPRAn"
      },
      "outputs": [],
      "source": [
        "with pd.ExcelWriter('accuracy_table.xlsx') as writer:\n",
        "  df_acc.to_excel(writer, sheet_name='sheet_1')"
      ]
    },
    {
      "cell_type": "markdown",
      "metadata": {
        "id": "u8lVDpy0UTk_"
      },
      "source": [
        "### Tabela pareada dos resultados (p-values)"
      ]
    },
    {
      "cell_type": "markdown",
      "metadata": {
        "id": "T_U9ocKSlK2e"
      },
      "source": [
        "Faz a tabela pareada dos p-values como um dataframe"
      ]
    },
    {
      "cell_type": "code",
      "execution_count": null,
      "metadata": {
        "id": "ahuAEpxl393u"
      },
      "outputs": [],
      "source": [
        "def results_paired(scores1, scores2):\n",
        "  _, p_value_t = t_test(scores1, scores2)\n",
        "  _, p_value_w = wilcoxon(scores1, scores2)\n",
        "\n",
        "  return p_value_t, p_value_w"
      ]
    },
    {
      "cell_type": "code",
      "execution_count": null,
      "metadata": {
        "id": "5JK2_w9AKIAe"
      },
      "outputs": [],
      "source": [
        "def table_paired(scores):\n",
        "  # lista as keys para facilitar manipulacao\n",
        "  keys = list(scores.keys())\n",
        "  # quantidade de keys para criar tamanho da matriz\n",
        "  size = len(keys)\n",
        "  # matrix que eh a tabela pareada\n",
        "  matrix_hyp = np.zeros((size, size))\n",
        "  \n",
        "  # faz a tabela pareada\n",
        "  for i in range(size):\n",
        "    k1 = keys[i]\n",
        "    s1 = scores[k1]\n",
        "    for j in range(size):\n",
        "      k2 = keys[j]\n",
        "      s2 = scores[k2]\n",
        "      # diagonal vai ficar o nome do classificador\n",
        "      if k1 == k2:\n",
        "        matrix_hyp[i][j] = np.NaN\n",
        "      # nao diagonal vai ficar os p-values dos testes pareados\n",
        "      else:\n",
        "        t, w = results_paired(s1, s2)\n",
        "        # triangular superior = p-value do t-pareado\n",
        "        matrix_hyp[i][j] = t\n",
        "        # triangular inferior = p-value do wilcoxon\n",
        "        matrix_hyp[j][i] = w\n",
        "    \n",
        "  # transforma a matriz em um dataframe para facilitar manipulacao\n",
        "  df = pd.DataFrame(matrix_hyp, index = keys, columns = keys)\n",
        "  # arredonda os valores para 3 casas decimais\n",
        "  df = df.applymap(lambda x: f'{x:.3e}' if x < 0.0001 else f'{x:.3f}')\n",
        "  # transforma os valores para string para poder manipular\n",
        "  df = df.astype(str)\n",
        "  # coloca a diagonal do dataframe com os respectivos nomes dos classificadores\n",
        "  df.at['ZR','ZR'] = 'ZR'\n",
        "  df.at['NBG','NBG'] = 'NBG'\n",
        "  df.at['KMC','KMC'] = 'KMC'\n",
        "  df.at['KNN','KNN'] = 'KNN'\n",
        "  df.at['AD','AD'] = 'AD'\n",
        "\n",
        "  # coloca em negrito quando p-value < 0.05\n",
        "  def apply_bold(txt):\n",
        "    try:\n",
        "      bold = 'bold' if float(txt) < alpha else ''\n",
        "      return 'font-weight: %s' % bold\n",
        "    except:\n",
        "      None\n",
        "  \n",
        "  # aplica o negrito no estilo do dataframe\n",
        "  df_style = df.style.applymap(apply_bold)\n",
        "\n",
        "  return df, df_style"
      ]
    },
    {
      "cell_type": "code",
      "execution_count": null,
      "metadata": {
        "colab": {
          "base_uri": "https://localhost:8080/",
          "height": 206
        },
        "id": "uTfmWhODMa50",
        "outputId": "f229048a-05a9-4ef7-b600-725e548d3878"
      },
      "outputs": [
        {
          "data": {
            "text/html": [
              "<style type=\"text/css\">\n",
              "#T_a939e_row0_col1, #T_a939e_row0_col2, #T_a939e_row0_col3, #T_a939e_row0_col4, #T_a939e_row1_col0, #T_a939e_row1_col2, #T_a939e_row1_col4, #T_a939e_row2_col0, #T_a939e_row2_col1, #T_a939e_row2_col4, #T_a939e_row3_col0, #T_a939e_row3_col4, #T_a939e_row4_col0, #T_a939e_row4_col1, #T_a939e_row4_col2, #T_a939e_row4_col3 {\n",
              "  font-weight: bold;\n",
              "}\n",
              "#T_a939e_row1_col3, #T_a939e_row2_col3, #T_a939e_row3_col1, #T_a939e_row3_col2 {\n",
              "  font-weight: ;\n",
              "}\n",
              "</style>\n",
              "<table id=\"T_a939e_\" class=\"dataframe\">\n",
              "  <thead>\n",
              "    <tr>\n",
              "      <th class=\"blank level0\" >&nbsp;</th>\n",
              "      <th class=\"col_heading level0 col0\" >ZR</th>\n",
              "      <th class=\"col_heading level0 col1\" >NBG</th>\n",
              "      <th class=\"col_heading level0 col2\" >KMC</th>\n",
              "      <th class=\"col_heading level0 col3\" >KNN</th>\n",
              "      <th class=\"col_heading level0 col4\" >AD</th>\n",
              "    </tr>\n",
              "  </thead>\n",
              "  <tbody>\n",
              "    <tr>\n",
              "      <th id=\"T_a939e_level0_row0\" class=\"row_heading level0 row0\" >ZR</th>\n",
              "      <td id=\"T_a939e_row0_col0\" class=\"data row0 col0\" >ZR</td>\n",
              "      <td id=\"T_a939e_row0_col1\" class=\"data row0 col1\" >8.057e-07</td>\n",
              "      <td id=\"T_a939e_row0_col2\" class=\"data row0 col2\" >1.295e-06</td>\n",
              "      <td id=\"T_a939e_row0_col3\" class=\"data row0 col3\" >1.249e-06</td>\n",
              "      <td id=\"T_a939e_row0_col4\" class=\"data row0 col4\" >1.470e-06</td>\n",
              "    </tr>\n",
              "    <tr>\n",
              "      <th id=\"T_a939e_level0_row1\" class=\"row_heading level0 row1\" >NBG</th>\n",
              "      <td id=\"T_a939e_row1_col0\" class=\"data row1 col0\" >1.143e-29</td>\n",
              "      <td id=\"T_a939e_row1_col1\" class=\"data row1 col1\" >NBG</td>\n",
              "      <td id=\"T_a939e_row1_col2\" class=\"data row1 col2\" >0.043</td>\n",
              "      <td id=\"T_a939e_row1_col3\" class=\"data row1 col3\" >0.115</td>\n",
              "      <td id=\"T_a939e_row1_col4\" class=\"data row1 col4\" >0.000</td>\n",
              "    </tr>\n",
              "    <tr>\n",
              "      <th id=\"T_a939e_level0_row2\" class=\"row_heading level0 row2\" >KMC</th>\n",
              "      <td id=\"T_a939e_row2_col0\" class=\"data row2 col0\" >1.180e-28</td>\n",
              "      <td id=\"T_a939e_row2_col1\" class=\"data row2 col1\" >0.016</td>\n",
              "      <td id=\"T_a939e_row2_col2\" class=\"data row2 col2\" >KMC</td>\n",
              "      <td id=\"T_a939e_row2_col3\" class=\"data row2 col3\" >0.405</td>\n",
              "      <td id=\"T_a939e_row2_col4\" class=\"data row2 col4\" >0.004</td>\n",
              "    </tr>\n",
              "    <tr>\n",
              "      <th id=\"T_a939e_level0_row3\" class=\"row_heading level0 row3\" >KNN</th>\n",
              "      <td id=\"T_a939e_row3_col0\" class=\"data row3 col0\" >1.130e-28</td>\n",
              "      <td id=\"T_a939e_row3_col1\" class=\"data row3 col1\" >0.053</td>\n",
              "      <td id=\"T_a939e_row3_col2\" class=\"data row3 col2\" >0.415</td>\n",
              "      <td id=\"T_a939e_row3_col3\" class=\"data row3 col3\" >KNN</td>\n",
              "      <td id=\"T_a939e_row3_col4\" class=\"data row3 col4\" >0.001</td>\n",
              "    </tr>\n",
              "    <tr>\n",
              "      <th id=\"T_a939e_level0_row4\" class=\"row_heading level0 row4\" >AD</th>\n",
              "      <td id=\"T_a939e_row4_col0\" class=\"data row4 col0\" >1.606e-27</td>\n",
              "      <td id=\"T_a939e_row4_col1\" class=\"data row4 col1\" >1.313e-06</td>\n",
              "      <td id=\"T_a939e_row4_col2\" class=\"data row4 col2\" >0.001</td>\n",
              "      <td id=\"T_a939e_row4_col3\" class=\"data row4 col3\" >0.000</td>\n",
              "      <td id=\"T_a939e_row4_col4\" class=\"data row4 col4\" >AD</td>\n",
              "    </tr>\n",
              "  </tbody>\n",
              "</table>\n"
            ],
            "text/plain": [
              "<pandas.io.formats.style.Styler at 0x7ff4d58c7350>"
            ]
          },
          "execution_count": 33,
          "metadata": {},
          "output_type": "execute_result"
        }
      ],
      "source": [
        "df_paired, df_style_paired = table_paired(dict_scores)\n",
        "df_style_paired"
      ]
    },
    {
      "cell_type": "code",
      "execution_count": null,
      "metadata": {
        "id": "Kpsm1FY2P5Pc"
      },
      "outputs": [],
      "source": [
        "with pd.ExcelWriter('paired_table.xlsx') as writer:\n",
        "  df_paired.to_excel(writer, sheet_name='sheet_1')"
      ]
    },
    {
      "cell_type": "markdown",
      "metadata": {
        "id": "LkaO6_1RoEew"
      },
      "source": [
        "\n",
        "## Referências"
      ]
    },
    {
      "cell_type": "markdown",
      "metadata": {
        "id": "bjqRyiIOoLjF"
      },
      "source": [
        "Disponiblizado pelo professor\n",
        "\n",
        "* https://scikit-learn.org/stable/datasets/toy_dataset.html\n",
        "\n",
        "* https://scikit-learn.org/stable/modules/generated/sklearn.dummy.DummyClassifier.html\n",
        "\n",
        "* https://scikit-learn.org/stable/modules/generated/sklearn.neighbors.KNeighborsClassifier.html\n",
        "\n",
        "* https://scikit-learn.org/stable/modules/generated/sklearn.naive_bayes.GaussianNB.html#sklearn.naive_bayes.GaussianNB\n",
        "\n",
        "* https://scikit-learn.org/stable/modules/generated/sklearn.tree.DecisionTreeClassifier.html\n",
        "\n",
        "* https://scikit-learn.org/stable/modules/generated/sklearn.cluster.KMeans.html\n",
        "\n",
        "Pesquisa pelo aluno\n",
        "\n",
        "* https://scikit-learn.org/stable/modules/generated/sklearn.model_selection.RepeatedStratifiedKFold.html\n",
        "\n",
        "* https://scikit-learn.org/stable/modules/generated/sklearn.pipeline.Pipeline.html\n",
        "\n",
        "* https://scikit-learn.org/stable/modules/generated/sklearn.preprocessing.StandardScaler.html\n",
        "\n",
        "* https://scikit-learn.org/stable/modules/generated/sklearn.model_selection.GridSearchCV.html\n",
        "\n",
        "* https://scikit-learn.org/stable/modules/generated/sklearn.model_selection.cross_val_score.html\n",
        "\n",
        "* https://docs.scipy.org/doc/scipy/reference/generated/scipy.stats.wilcoxon.html\n",
        "\n",
        "* https://docs.scipy.org/doc/scipy/reference/generated/scipy.stats.ttest_ind.html\n",
        "\n",
        "* https://seaborn.pydata.org/generated/seaborn.boxplot.html\n",
        "\n",
        "* https://docs.scipy.org/doc/scipy/reference/stats.html\n"
      ]
    },
    {
      "cell_type": "code",
      "execution_count": null,
      "metadata": {
        "id": "uE5f6LsiqUih"
      },
      "outputs": [],
      "source": []
    }
  ],
  "metadata": {
    "colab": {
      "collapsed_sections": [],
      "name": "IA_Trab1_Daniel_Duque.ipynb",
      "provenance": [],
      "toc_visible": true
    },
    "kernelspec": {
      "display_name": "Python 3",
      "language": "python",
      "name": "python3"
    },
    "language_info": {
      "name": "python",
      "version": "3.11.0 (main, Oct 24 2022, 18:26:48) [MSC v.1933 64 bit (AMD64)]"
    },
    "vscode": {
      "interpreter": {
        "hash": "b92c64ddd97bd75b75879c676e53789d19cf25aafb287fcc8a3273f02b13a1d2"
      }
    }
  },
  "nbformat": 4,
  "nbformat_minor": 0
}
